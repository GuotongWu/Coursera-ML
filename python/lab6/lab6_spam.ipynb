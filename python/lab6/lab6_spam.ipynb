{
 "metadata": {
  "language_info": {
   "codemirror_mode": {
    "name": "ipython",
    "version": 3
   },
   "file_extension": ".py",
   "mimetype": "text/x-python",
   "name": "python",
   "nbconvert_exporter": "python",
   "pygments_lexer": "ipython3",
   "version": "3.9.2"
  },
  "orig_nbformat": 2,
  "kernelspec": {
   "name": "python392jvsc74a57bd04ce0e62306dd6a5716965d4519ada776f947e6dfc145b604b11307c10277ef29",
   "display_name": "Python 3.9.2 64-bit"
  }
 },
 "nbformat": 4,
 "nbformat_minor": 2,
 "cells": [
  {
   "cell_type": "code",
   "execution_count": 1,
   "metadata": {},
   "outputs": [],
   "source": [
    "import numpy as np\n",
    "import matplotlib\n",
    "import pandas as pd\n",
    "import matplotlib.pyplot as plt\n",
    "import scipy\n",
    "from scipy import io\n",
    "import sklearn.svm as svm\n",
    "import re"
   ]
  },
  {
   "source": [
    "## 1. email to features"
   ],
   "cell_type": "markdown",
   "metadata": {}
  },
  {
   "cell_type": "code",
   "execution_count": 2,
   "metadata": {},
   "outputs": [],
   "source": [
    "f = open('emailSample1.txt', 'r')\n",
    "file_content = f.read()\n",
    "f.close()"
   ]
  },
  {
   "cell_type": "code",
   "execution_count": 3,
   "metadata": {},
   "outputs": [],
   "source": [
    "def processEmail(email_contents):\n",
    "    vocabList = getVocablist()\n",
    "    word_indices = []\n",
    "\n",
    "    email_contents = email_contents.lower()\n",
    "    email_contents = re.sub(r'<[^<>]+>', '', email_contents)\n",
    "    email_contents = re.sub(r'[0-9]+', r'number', email_contents)\n",
    "    email_contents = re.sub(r'(http|https)://[^\\s]*', r'httpaddr', email_contents)\n",
    "    email_contents = re.sub(r'[^\\s]+@[^\\s]+', r'emailaddr', email_contents)\n",
    "    email_contents = re.sub(r'[$]+', r'dollar', email_contents)\n",
    "    email_contents = re.sub(r'[^\\sA-Za-z]', '', email_contents)\n",
    "\n",
    "    email_contents = email_contents.split()\n",
    "\n",
    "    for string in email_contents:\n",
    "        if len(string) <= 1:\n",
    "            continue\n",
    "        try:\n",
    "            word_indices.append(vocabList[string])\n",
    "        except KeyError:\n",
    "            continue\n",
    "\n",
    "    return word_indices"
   ]
  },
  {
   "cell_type": "code",
   "execution_count": 4,
   "metadata": {},
   "outputs": [],
   "source": [
    "def getVocablist():\n",
    "    f = open('vocab.txt', 'r')\n",
    "    contents = f.read()\n",
    "    f.close()\n",
    "\n",
    "    dic = {}\n",
    "    contents = contents.split()\n",
    "    for i in range(0, len(contents), 2):\n",
    "        dic[contents[i+1]] = eval(contents[i])\n",
    "    return dic"
   ]
  },
  {
   "cell_type": "code",
   "execution_count": 5,
   "metadata": {},
   "outputs": [],
   "source": [
    "word_indices = processEmail(file_content)\n",
    "vocabList = getVocablist()\n",
    "features = np.zeros(len(vocabList))\n",
    "features[word_indices] = 1"
   ]
  },
  {
   "source": [
    "## 2. load svm data"
   ],
   "cell_type": "markdown",
   "metadata": {}
  },
  {
   "cell_type": "code",
   "execution_count": 6,
   "metadata": {},
   "outputs": [],
   "source": [
    "data = io.loadmat('spamTrain.mat')\n",
    "X = data['X']\n",
    "y = data['y'].ravel()"
   ]
  },
  {
   "cell_type": "code",
   "execution_count": 7,
   "metadata": {},
   "outputs": [
    {
     "output_type": "execute_result",
     "data": {
      "text/plain": [
       "SVC(C=0.1, kernel='linear')"
      ]
     },
     "metadata": {},
     "execution_count": 7
    }
   ],
   "source": [
    "model = svm.SVC(C=0.1, kernel='linear')\n",
    "model.fit(X, y)"
   ]
  },
  {
   "cell_type": "code",
   "execution_count": 8,
   "metadata": {},
   "outputs": [
    {
     "output_type": "stream",
     "name": "stdout",
     "text": [
      "Traning Accuracy: 99.83%\n"
     ]
    }
   ],
   "source": [
    "p = model.predict(X)\n",
    "print('Traning Accuracy: {:.2f}%'.format(100*np.mean(p==y)))"
   ]
  },
  {
   "cell_type": "code",
   "execution_count": 9,
   "metadata": {},
   "outputs": [],
   "source": [
    "testdata = io.loadmat('spamTest.mat')\n",
    "Xtest = testdata['Xtest']\n",
    "ytest = testdata['ytest'].ravel()"
   ]
  },
  {
   "cell_type": "code",
   "execution_count": 10,
   "metadata": {},
   "outputs": [
    {
     "output_type": "stream",
     "name": "stdout",
     "text": [
      "Test Accuracy: 98.90%\n"
     ]
    }
   ],
   "source": [
    "p = model.predict(Xtest)\n",
    "print('Test Accuracy: {:.2f}%'.format(100*np.mean(p==ytest)))"
   ]
  },
  {
   "source": [
    "## 3. display top words"
   ],
   "cell_type": "markdown",
   "metadata": {}
  },
  {
   "cell_type": "code",
   "execution_count": 11,
   "metadata": {
    "tags": []
   },
   "outputs": [
    {
     "output_type": "stream",
     "name": "stdout",
     "text": [
      "our             0.50061\nclick             0.46592\nremov             0.42287\nguarante             0.38362\nvisit             0.36771\nbasenumb             0.34506\ndollar             0.32363\nwill             0.26972\nprice             0.26730\npleas             0.26117\nmost             0.25730\nnbsp             0.25394\nlo             0.25347\nga             0.24830\nhour             0.24640\n"
     ]
    }
   ],
   "source": [
    "w = model.coef_.ravel()\n",
    "id = np.argsort(w).tolist()\n",
    "id.reverse()\n",
    "wordList = list(vocabList.keys())\n",
    "for i in range(15):\n",
    "    print(wordList[id[i]] + '{:>20.5f}'.format(w[id[i]]))"
   ]
  },
  {
   "source": [
    "## 4. make my own prediction"
   ],
   "cell_type": "markdown",
   "metadata": {}
  },
  {
   "cell_type": "code",
   "execution_count": 12,
   "metadata": {},
   "outputs": [
    {
     "output_type": "stream",
     "name": "stdout",
     "text": [
      "[0]\n"
     ]
    }
   ],
   "source": [
    "prediction = model.predict(features.reshape(1, 1899))\n",
    "print(prediction)\n",
    "# not spam?"
   ]
  }
 ]
}