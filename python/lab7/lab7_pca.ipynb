{
 "metadata": {
  "language_info": {
   "codemirror_mode": {
    "name": "ipython",
    "version": 3
   },
   "file_extension": ".py",
   "mimetype": "text/x-python",
   "name": "python",
   "nbconvert_exporter": "python",
   "pygments_lexer": "ipython3",
   "version": "3.9.2"
  },
  "orig_nbformat": 2,
  "kernelspec": {
   "name": "python392jvsc74a57bd04ce0e62306dd6a5716965d4519ada776f947e6dfc145b604b11307c10277ef29",
   "display_name": "Python 3.9.2 64-bit"
  }
 },
 "nbformat": 4,
 "nbformat_minor": 2,
 "cells": [
  {
   "cell_type": "code",
   "execution_count": 1,
   "metadata": {},
   "outputs": [],
   "source": [
    "import numpy as np\n",
    "import matplotlib\n",
    "import pandas as pd\n",
    "import matplotlib.pyplot as plt\n",
    "import scipy\n",
    "from scipy import io\n",
    "from IPython import display\n",
    "import time"
   ]
  },
  {
   "cell_type": "code",
   "execution_count": 3,
   "metadata": {},
   "outputs": [
    {
     "output_type": "execute_result",
     "data": {
      "text/plain": [
       "dict_keys(['__header__', '__version__', '__globals__', 'X'])"
      ]
     },
     "metadata": {},
     "execution_count": 3
    }
   ],
   "source": [
    "data = io.loadmat('ex7faces.mat')\n",
    "data.keys()"
   ]
  },
  {
   "cell_type": "code",
   "execution_count": 4,
   "metadata": {},
   "outputs": [
    {
     "output_type": "execute_result",
     "data": {
      "text/plain": [
       "(5000, 1024)"
      ]
     },
     "metadata": {},
     "execution_count": 4
    }
   ],
   "source": [
    "X = data['X']\n",
    "X.shape"
   ]
  },
  {
   "cell_type": "code",
   "execution_count": 6,
   "metadata": {},
   "outputs": [],
   "source": [
    "# feature Normalization\n",
    "m,n = X.shape\n",
    "mu = np.mean(X, axis=0)\n",
    "sigma = np.std(X, axis=0)\n",
    "X_norm = (X-mu)/sigma"
   ]
  },
  {
   "cell_type": "code",
   "execution_count": 7,
   "metadata": {},
   "outputs": [],
   "source": [
    "# PCA\n",
    "convX = np.dot(X.T, X)/m\n",
    "U, S, _ = np.linalg.svd(convX)"
   ]
  },
  {
   "cell_type": "code",
   "execution_count": 15,
   "metadata": {},
   "outputs": [
    {
     "output_type": "stream",
     "name": "stdout",
     "text": [
      "(5000, 100)\n"
     ]
    },
    {
     "output_type": "execute_result",
     "data": {
      "text/plain": [
       "array([[ 15.31451559,   2.79180747,   5.07286254],\n",
       "       [ 10.1030899 ,  -2.50014999,  -3.02570512],\n",
       "       [ -7.8661552 ,   1.22297262,  -6.17022211],\n",
       "       [ 21.65058532,   1.7600141 ,  -1.71829408],\n",
       "       [ 28.62231264,   4.48641632,  -8.35737846],\n",
       "       [-12.70793722,  -0.87790968,   2.30044091],\n",
       "       [ -6.91229661,  -3.30925306,  -1.91314525],\n",
       "       [-11.11200911,  -0.74193724,   8.59898697],\n",
       "       [  7.03273191,   5.35298246,   3.37434511],\n",
       "       [  6.80622144,  -7.47985861, -16.2995379 ]])"
      ]
     },
     "metadata": {},
     "execution_count": 15
    }
   ],
   "source": [
    "# PCA\n",
    "K = 100\n",
    "U_reduce = U[:,:K]\n",
    "Z = np.dot(X_norm, U_reduce)\n",
    "print(Z.shape)\n",
    "Z[:10,:3]"
   ]
  },
  {
   "cell_type": "code",
   "execution_count": 18,
   "metadata": {},
   "outputs": [
    {
     "output_type": "stream",
     "name": "stdout",
     "text": [
      "[[-0.37774675 -0.39737429 -0.41712684]\n [ 0.38329792  0.37201758  0.30659438]\n [-0.30303515 -0.28643855 -0.19626688]\n [-0.70627335 -0.73397728 -0.63199942]\n [ 0.32520693  0.42018056  0.51801273]\n [ 1.70552663  1.63381848  1.52161631]\n [ 0.68046217  0.75784716  0.91014461]\n [-1.62160957 -1.55211933 -1.4534507 ]\n [ 0.17200363  0.11224846  0.05620317]\n [ 0.97187384  0.90104939  0.80970931]]\n[[-0.31524019 -0.49758248 -0.69058357]\n [ 0.58400504  0.39602142  0.21916434]\n [-0.21749614 -0.27914597 -0.34690103]\n [-1.23403423 -0.8748819  -0.56928385]\n [ 0.46671219  0.53502647  0.50219702]\n [ 1.60054313  1.56763541  1.61411113]\n [ 0.17348004  0.63431579  1.00761252]\n [-1.11674138 -1.25218132 -1.35773204]\n [ 0.58400504  0.27687423 -0.38733427]\n [ 0.89678599  0.89246803  0.86609618]]\n"
     ]
    }
   ],
   "source": [
    "# recover\n",
    "X_approx = np.dot(Z, U_reduce.T)\n",
    "print(X_approx[:10,:3])\n",
    "print(X_norm[:10,:3])"
   ]
  }
 ]
}